{
  "nbformat": 4,
  "nbformat_minor": 0,
  "metadata": {
    "colab": {
      "provenance": []
    },
    "kernelspec": {
      "name": "python3",
      "display_name": "Python 3"
    },
    "language_info": {
      "name": "python"
    }
  },
  "cells": [
    {
      "cell_type": "markdown",
      "source": [
        "First, we labeled the clusters based on the average cluster by iterating over each data point and finding the cluster with the highest probability of generating the data point based on its Bernoulli distribution. We assigned the label of that cluster to the data point.\n",
        "Then, for each cluster, we calculated the true label of the data points assigned to that cluster by taking the mean of the true labels (digits) of the data points. If the mean was less than 0.5, we considered the cluster as misclassified and flipped the labels of the data points assigned to that cluster.\n",
        "Finally, we counted the number of misclassified points by summing the number of data points whose label was flipped in the previous step."
      ],
      "metadata": {
        "id": "jvw7Os-2mRI2"
      }
    },
    {
      "cell_type": "markdown",
      "source": [
        "In the above code, \"labeling of the clusters based on the average cluster\" refers to assigning a label (a digit from 0 to 9) to each of the 10 clusters based on the average (or most representative) data point in the cluster.\n",
        "\n",
        "Since we are using a mixture of Bernoulli distributions to cluster the MNIST dataset, each cluster corresponds to a different digit, and we can identify the digit that a cluster represents by examining the average (or most representative) data point in that cluster.\n",
        "\n",
        "To assign a label to each cluster, we first calculate the centroid of each cluster by computing the mean of the binary pixel values for all data points in the cluster. Then, we find the digit that is closest to the centroid in terms of Euclidean distance. This digit is assigned as the label for that cluster. Once all clusters have been labeled, we can use these labels to evaluate the performance of our clustering algorithm."
      ],
      "metadata": {
        "id": "puuQw_VlndIb"
      }
    },
    {
      "cell_type": "code",
      "source": [
        "import numpy as np\n",
        "from sklearn.datasets import fetch_openml\n",
        "from sklearn.preprocessing import binarize\n",
        "# Fetch the MNIST dataset\n",
        "mnist = fetch_openml('mnist_784')\n",
        "X = mnist.data // 255\n",
        "Y = mnist.target\n",
        "selected_digits = [0, 1, 2]\n",
        "selected_indices = np.isin(mnist.target.astype(int), selected_digits)\n",
        "X_selected = X[selected_indices]\n",
        "y_selected = mnist.target[selected_indices].astype(int)"
      ],
      "metadata": {
        "id": "uLPbFuexIdqe"
      },
      "execution_count": null,
      "outputs": []
    },
    {
      "cell_type": "code",
      "source": [
        "print(X_selected.shape)"
      ],
      "metadata": {
        "id": "Zj7QSwVcu-Xx",
        "colab": {
          "base_uri": "https://localhost:8080/"
        },
        "outputId": "376bbf4f-b7b2-4233-ee32-6fbe667e5297"
      },
      "execution_count": 2,
      "outputs": [
        {
          "output_type": "stream",
          "name": "stdout",
          "text": [
            "(21770, 784)\n"
          ]
        }
      ]
    },
    {
      "cell_type": "code",
      "source": [
        "# separating the training data points and testing data points\n",
        "x_train = X_selected[:11770]\n",
        "x_test = X_selected[11770:]\n",
        "y_train = y_selected[:11770]\n",
        "y_test = y_selected[11770:]\n",
        "print(\"Shape of x_train:\", x_train.shape)\n",
        "print(\"Shape of x_test:\", x_test.shape)"
      ],
      "metadata": {
        "id": "yC-CLJiHY9eO",
        "colab": {
          "base_uri": "https://localhost:8080/"
        },
        "outputId": "b9cddc40-a8b3-40ba-e340-533c10f00963"
      },
      "execution_count": 3,
      "outputs": [
        {
          "output_type": "stream",
          "name": "stdout",
          "text": [
            "Shape of x_train: (11770, 784)\n",
            "Shape of x_test: (10000, 784)\n"
          ]
        }
      ]
    },
    {
      "cell_type": "code",
      "source": [
        "# initializing  the parameters\n",
        "X = binarize(x_train, threshold=0.5)\n",
        "n_clusters = 3\n",
        "n_features = X.shape[1]\n",
        "n_samples = X.shape[0]\n",
        "print(n_samples)"
      ],
      "metadata": {
        "id": "B9A9OIw0jmHe",
        "colab": {
          "base_uri": "https://localhost:8080/"
        },
        "outputId": "cf1b921b-23df-4737-fb5d-5127061bd609"
      },
      "execution_count": 4,
      "outputs": [
        {
          "output_type": "stream",
          "name": "stdout",
          "text": [
            "11770\n"
          ]
        }
      ]
    },
    {
      "cell_type": "code",
      "source": [
        "#EM Algorithm for mixture of bernoulli's\n",
        "def bernouli_em(X,n_iterations):\n",
        "  n_clusters =int(3)\n",
        "  n_features = X.shape[1]\n",
        "  n_samples = X.shape[0]\n",
        "  pi = np.ones(n_clusters) / n_clusters   # initializing each pi_j as 1/10\n",
        "  theta = np.random.uniform(low=0.25, high=0.75, size=(n_clusters, n_features))\n",
        "  gamma=np.zeros((n_samples,n_clusters))\n",
        "  posterior=np.zeros((n_samples,n_clusters))\n",
        "  for itr in range(n_iterations):\n",
        "    #calculating posteriors\n",
        "    for i in range(n_samples):\n",
        "      for k in range(n_clusters):\n",
        "        posterior[i][k]=np.prod((theta[k]**X[i])*((1-theta[k])**(1-X[i])))\n",
        "    #E step\n",
        "    for i in range(n_samples):\n",
        "      for k in range(n_clusters):\n",
        "        gamma[i][k]=pi[k]*posterior[i][k]\n",
        "        sum=np.sum(pi[k]*posterior[i])\n",
        "        if sum==0:\n",
        "          gamma[i][k]=0\n",
        "        else:\n",
        "          gamma[i][k]=gamma[i][k]/sum\n",
        "    # M step\n",
        "    sum=np.sum(gamma,axis=0)\n",
        "    pi = sum/n_samples\n",
        "    for k in range(n_clusters):\n",
        "      theta[k]=np.sum(gamma[:,k].reshape(-1,1)*X,axis=0)\n",
        "      if(sum[k]==0):\n",
        "        theta[k]=0\n",
        "      else:\n",
        "        theta[k]=theta[k]/sum[k]\n",
        "  return pi,theta,gamma\n",
        "\n",
        "pi, theta, gamma = bernouli_em(X,10)\n"
      ],
      "metadata": {
        "id": "te6W2uTejo60"
      },
      "execution_count": 10,
      "outputs": []
    },
    {
      "cell_type": "code",
      "source": [
        "import matplotlib.pyplot as plt\n",
        "def show(image):\n",
        "    fig = plt.figure(figsize = (4,4))\n",
        "    ax = fig.add_subplot(1,1,1)\n",
        "    imgplot = ax.imshow(image, cmap=plt.cm.Greys)\n",
        "    plt.show()\n",
        "for i in theta:\n",
        "    show(i.reshape(28,28))"
      ],
      "metadata": {
        "id": "TOmde1VOe56M",
        "colab": {
          "base_uri": "https://localhost:8080/",
          "height": 1000
        },
        "outputId": "aae1b055-8024-4247-fa49-1d183d9d6d7d"
      },
      "execution_count": 6,
      "outputs": [
        {
          "output_type": "display_data",
          "data": {
            "text/plain": [
              "<Figure size 400x400 with 1 Axes>"
            ],
            "image/png": "[encoded data removed]"
          },
          "metadata": {}
        },
        {
          "output_type": "display_data",
          "data": {
            "text/plain": [
              "<Figure size 400x400 with 1 Axes>"
            ],
            "image/png": "[encoded data removed]"
          },
          "metadata": {}
        },
        {
          "output_type": "display_data",
          "data": {
            "text/plain": [
              "<Figure size 400x400 with 1 Axes>"
            ],
            "image/png": "[encoded data removed]"
          },
          "metadata": {}
        }
      ]
    },
    {
      "cell_type": "code",
      "source": [
        "#pi_label,theta_label are the values of the clusters  after manually labeling the data\n",
        "pi_label=np.zeros(n_clusters)\n",
        "theta_label=np.zeros((n_clusters,n_features))\n",
        "for k in range(n_clusters):\n",
        "  value=int(input(\"Enter the value that is seen for the each figure plotted above:\"))\n",
        "  pi_label[value]=pi[k]\n",
        "  theta_label[value]=theta[k]"
      ],
      "metadata": {
        "id": "OH9n0IemUcau",
        "colab": {
          "base_uri": "https://localhost:8080/"
        },
        "outputId": "87a6f53b-6ef9-4831-e230-58caf0954f24"
      },
      "execution_count": 7,
      "outputs": [
        {
          "name": "stdout",
          "output_type": "stream",
          "text": [
            "Enter the value that is seen for the each figure plotted above:0\n",
            "Enter the value that is seen for the each figure plotted above:2\n",
            "Enter the value that is seen for the each figure plotted above:1\n"
          ]
        }
      ]
    },
    {
      "cell_type": "code",
      "source": [
        "import numpy as np\n",
        "from sklearn.preprocessing import binarize\n",
        "\n",
        "# Precompute logarithms of theta_label for efficiency\n",
        "log_theta = np.log(theta_label)\n",
        "log_inv_theta = np.log(1 - theta_label)\n",
        "\n",
        "# Convert X_test to binary\n",
        "X_test_bin = binarize(x_test, threshold=0.5)\n",
        "\n",
        "n_samples = X_test_bin.shape[0]\n",
        "y_pred = np.empty(n_samples)\n",
        "\n",
        "for i in range(n_samples):\n",
        "    p = np.zeros(n_clusters)\n",
        "    for k in range(n_clusters):\n",
        "        log_p = np.sum(\n",
        "            X_test_bin[i] * log_theta[k] + (1 - X_test_bin[i]) * log_inv_theta[k]\n",
        "        )\n",
        "        log_p += np.log(pi_label[k])\n",
        "        p[k] = log_p\n",
        "\n",
        "    y_pred[i] = np.argmax(p)\n",
        "\n",
        "y_pred = y_pred.astype(int)\n",
        "misclassified = np.sum(y_test != y_pred)\n"
      ],
      "metadata": {
        "id": "5vtNNdYEfKss"
      },
      "execution_count": null,
      "outputs": []
    },
    {
      "cell_type": "code",
      "source": [
        "print(\"number of points that are misclassified are: \",misclassified)\n",
        "print(\"accuracy:\",((n_samples-misclassified)/misclassified)*100)"
      ],
      "metadata": {
        "id": "c3PV96ajAoa2",
        "colab": {
          "base_uri": "https://localhost:8080/"
        },
        "outputId": "800d7933-5efb-457d-bf18-349abda9ec5c"
      },
      "execution_count": 9,
      "outputs": [
        {
          "output_type": "stream",
          "name": "stdout",
          "text": [
            "number of points that are misclassified are:  6810\n",
            "accuracy: 46.84287812041116\n"
          ]
        }
      ]
    }
  ]
}